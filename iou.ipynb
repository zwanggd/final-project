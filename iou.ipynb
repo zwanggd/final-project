{
 "cells": [
  {
   "cell_type": "code",
   "execution_count": 21,
   "metadata": {},
   "outputs": [
    {
     "data": {
      "text/plain": [
       "0.25"
      ]
     },
     "execution_count": 21,
     "metadata": {},
     "output_type": "execute_result"
    }
   ],
   "source": [
    "def calculate_iou(bbox1, bbox2):\n",
    "    # log.info(f\"bbox1: {bbox1}, bbox2: {bbox2}\")\n",
    "    x1, y1, x2, y2 = bbox1\n",
    "    x1_, y1_, x2_, y2_ = bbox2\n",
    "    inter_x1, inter_y1 = max(x1, x1_), max(y1, y1_)\n",
    "    inter_x2, inter_y2 = min(x2, x2_), min(y2, y2_)\n",
    "    inter_area = max(0, inter_x2 - inter_x1) * max(0, inter_y2 - inter_y1)\n",
    "    area1 = (x2 - x1) * (y2 - y1)\n",
    "    area2 = (x2_ - x1_) * (y2_ - y1_)\n",
    "    union_area = area1 + area2 - inter_area\n",
    "    return inter_area / union_area if union_area > 0 else 0\n",
    "\n",
    "bbox1 = [10, 10, 20, 20]  # [left, top, width, height]\n",
    "bbox2 = [15, 15, 20, 20]  # [left, top, width, height]\n",
    "calculate_iou(bbox1, bbox2)"
   ]
  },
  {
   "cell_type": "code",
   "execution_count": 22,
   "metadata": {},
   "outputs": [
    {
     "name": "stdout",
     "output_type": "stream",
     "text": [
      "IoU: 0.3913\n"
     ]
    }
   ],
   "source": [
    "def calculate_iou(bbox1, bbox2):\n",
    "    \"\"\"\n",
    "    Calculate the Intersection over Union (IoU) of two bounding boxes in bbox_ltwh format.\n",
    "    \n",
    "    Parameters:\n",
    "    - bbox1: [left, top, width, height]\n",
    "    - bbox2: [left, top, width, height]\n",
    "    \n",
    "    Returns:\n",
    "    - IoU: Intersection over Union value (float)\n",
    "    \"\"\"\n",
    "    # Extract coordinates\n",
    "    x1_min, y1_min, w1, h1 = bbox1\n",
    "    x2_min, y2_min, w2, h2 = bbox2\n",
    "\n",
    "    # Calculate bottom-right coordinates\n",
    "    x1_max, y1_max = x1_min + w1, y1_min + h1\n",
    "    x2_max, y2_max = x2_min + w2, y2_min + h2\n",
    "\n",
    "    # Compute the intersection coordinates\n",
    "    inter_x_min = max(x1_min, x2_min)\n",
    "    inter_y_min = max(y1_min, y2_min)\n",
    "    inter_x_max = min(x1_max, x2_max)\n",
    "    inter_y_max = min(y1_max, y2_max)\n",
    "\n",
    "    # Compute the area of intersection\n",
    "    inter_width = max(0, inter_x_max - inter_x_min)\n",
    "    inter_height = max(0, inter_y_max - inter_y_min)\n",
    "    inter_area = inter_width * inter_height\n",
    "\n",
    "    # Compute the area of both bounding boxes\n",
    "    bbox1_area = w1 * h1\n",
    "    bbox2_area = w2 * h2\n",
    "\n",
    "    # Compute the union area\n",
    "    union_area = bbox1_area + bbox2_area - inter_area\n",
    "\n",
    "    # Avoid division by zero\n",
    "    if union_area == 0:\n",
    "        return 0.0\n",
    "\n",
    "    # Compute IoU\n",
    "    iou = inter_area / union_area\n",
    "    return iou\n",
    "\n",
    "# Example usage\n",
    "\n",
    "iou = calculate_iou(bbox1, bbox2)\n",
    "print(f\"IoU: {iou:.4f}\")\n"
   ]
  },
  {
   "cell_type": "code",
   "execution_count": null,
   "metadata": {},
   "outputs": [],
   "source": [
    "bbox1 = [10, 10, 20, 20]  # [left, top, width, height]\n",
    "bbox2 = [15, 15, 20, 20]  # [left, top, width, height]\n",
    "calculate_iou(bbox1, bbox2)"
   ]
  },
  {
   "cell_type": "code",
   "execution_count": 17,
   "metadata": {},
   "outputs": [],
   "source": [
    "bbox1 = [1033,679.7,73.796,175.92]\n",
    "bbox2 = [1003,925.07,73.716,153.93]"
   ]
  },
  {
   "cell_type": "code",
   "execution_count": 14,
   "metadata": {},
   "outputs": [],
   "source": [
    "bbox1 = [1895.4, 292.57, 23.553, 107.3]\n",
    "bbox2 = [1655.4, 276.21, 33.716, 102.79]"
   ]
  },
  {
   "cell_type": "code",
   "execution_count": 16,
   "metadata": {},
   "outputs": [
    {
     "data": {
      "text/plain": [
       "0.0"
      ]
     },
     "execution_count": 16,
     "metadata": {},
     "output_type": "execute_result"
    }
   ],
   "source": [
    "calculate_iou(bbox1, bbox2)"
   ]
  }
 ],
 "metadata": {
  "kernelspec": {
   "display_name": "Python 3",
   "language": "python",
   "name": "python3"
  },
  "language_info": {
   "codemirror_mode": {
    "name": "ipython",
    "version": 3
   },
   "file_extension": ".py",
   "mimetype": "text/x-python",
   "name": "python",
   "nbconvert_exporter": "python",
   "pygments_lexer": "ipython3",
   "version": "3.9.6"
  }
 },
 "nbformat": 4,
 "nbformat_minor": 2
}
